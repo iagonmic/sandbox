{
 "cells": [
  {
   "cell_type": "code",
   "execution_count": 1,
   "metadata": {},
   "outputs": [],
   "source": [
    "import sqlite3"
   ]
  },
  {
   "cell_type": "code",
   "execution_count": 2,
   "metadata": {},
   "outputs": [],
   "source": [
    "conn = sqlite3.connect(\"db_python.sqlite\")\n",
    "cursor = conn.cursor()"
   ]
  },
  {
   "cell_type": "markdown",
   "metadata": {},
   "source": [
    "Criando as tabelas e inserindo os dados no banco de dados \"db_python.sqlite\""
   ]
  },
  {
   "cell_type": "code",
   "execution_count": 3,
   "metadata": {},
   "outputs": [
    {
     "ename": "OperationalError",
     "evalue": "table Clientes already exists",
     "output_type": "error",
     "traceback": [
      "\u001b[1;31m---------------------------------------------------------------------------\u001b[0m",
      "\u001b[1;31mOperationalError\u001b[0m                          Traceback (most recent call last)",
      "Cell \u001b[1;32mIn[3], line 2\u001b[0m\n\u001b[0;32m      1\u001b[0m \u001b[38;5;28;01mwith\u001b[39;00m \u001b[38;5;28mopen\u001b[39m(\u001b[38;5;124m'\u001b[39m\u001b[38;5;124mpython_sql_tables.sql\u001b[39m\u001b[38;5;124m'\u001b[39m, \u001b[38;5;124m'\u001b[39m\u001b[38;5;124mr\u001b[39m\u001b[38;5;124m'\u001b[39m, encoding\u001b[38;5;241m=\u001b[39m\u001b[38;5;124m'\u001b[39m\u001b[38;5;124mutf-8\u001b[39m\u001b[38;5;124m'\u001b[39m) \u001b[38;5;28;01mas\u001b[39;00m file:\n\u001b[1;32m----> 2\u001b[0m     \u001b[43mcursor\u001b[49m\u001b[38;5;241;43m.\u001b[39;49m\u001b[43mexecutescript\u001b[49m\u001b[43m(\u001b[49m\u001b[43mfile\u001b[49m\u001b[38;5;241;43m.\u001b[39;49m\u001b[43mread\u001b[49m\u001b[43m(\u001b[49m\u001b[43m)\u001b[49m\u001b[43m)\u001b[49m\n",
      "\u001b[1;31mOperationalError\u001b[0m: table Clientes already exists"
     ]
    }
   ],
   "source": [
    "with open('python_sql_tables.sql', 'r', encoding='utf-8') as file:\n",
    "    cursor.executescript(file.read())\n"
   ]
  },
  {
   "cell_type": "markdown",
   "metadata": {},
   "source": [
    "## -- EXERCÍCIOS --\n",
    "\n"
   ]
  },
  {
   "cell_type": "markdown",
   "metadata": {},
   "source": [
    "1. Fácil: Selecione todos os clientes cadastrados após 01/01/2023."
   ]
  },
  {
   "cell_type": "code",
   "execution_count": null,
   "metadata": {},
   "outputs": [
    {
     "data": {
      "text/plain": [
       "[(2, 'Maria Santos', 'maria@email.com', '2023-01-10'),\n",
       " (3, 'Pedro Oliveira', 'pedro@email.com', '2023-03-22'),\n",
       " (5, 'Carlos Ferreira', 'carlos@email.com', '2023-02-14'),\n",
       " (7, 'Fernando Costa', 'fernando@email.com', '2023-04-05'),\n",
       " (9, 'Ricardo Nunes', 'ricardo@email.com', '2023-05-01')]"
      ]
     },
     "execution_count": 26,
     "metadata": {},
     "output_type": "execute_result"
    }
   ],
   "source": [
    "cursor.execute(\n",
    "    '''SELECT * FROM Clientes\n",
    "    WHERE DataCadastro > '2023-01-01'\n",
    "''')\n",
    "cursor.fetchall()"
   ]
  },
  {
   "cell_type": "markdown",
   "metadata": {},
   "source": [
    "2. Fácil: Liste os 5 produtos mais caros."
   ]
  },
  {
   "cell_type": "code",
   "execution_count": null,
   "metadata": {},
   "outputs": [
    {
     "data": {
      "text/plain": [
       "[(2, 'Notebook ABC', 1499.99, 'Eletrônicos'),\n",
       " (1, 'Smartphone XYZ', 999.99, 'Eletrônicos'),\n",
       " (10, 'Cadeira de Escritório', 249.99, 'Móveis'),\n",
       " (9, 'Relógio Inteligente', 199.99, 'Eletrônicos'),\n",
       " (3, 'Tênis Runner', 129.99, 'Calçados')]"
      ]
     },
     "execution_count": 27,
     "metadata": {},
     "output_type": "execute_result"
    }
   ],
   "source": [
    "cursor.execute(\n",
    "    '''SELECT *\n",
    "    FROM Produtos\n",
    "    ORDER BY Preco DESC LIMIT 5;\n",
    "''')\n",
    "cursor.fetchall()"
   ]
  },
  {
   "cell_type": "markdown",
   "metadata": {},
   "source": [
    "3. Médio: Calcule o total de vendas (quantidade * preço) para cada produto."
   ]
  },
  {
   "cell_type": "code",
   "execution_count": null,
   "metadata": {},
   "outputs": [
    {
     "data": {
      "text/plain": [
       "[(1, 'Smartphone XYZ', 999.99),\n",
       " (2, 'Notebook ABC', 1499.99),\n",
       " (3, 'Tênis Runner', 129.99),\n",
       " (4, 'Camiseta Básica', 89.97),\n",
       " (5, 'Fones de Ouvido', 179.98),\n",
       " (6, 'Livro \"SQL Avançado\"', 59.99),\n",
       " (7, 'Cafeteira Elétrica', 79.99),\n",
       " (8, 'Mochila Escolar', 99.98),\n",
       " (9, 'Relógio Inteligente', 199.99),\n",
       " (10, 'Cadeira de Escritório', 249.99)]"
      ]
     },
     "execution_count": 32,
     "metadata": {},
     "output_type": "execute_result"
    }
   ],
   "source": [
    "cursor.execute(\n",
    "    '''SELECT Produtos.ProdutoID, Produtos.Nome, (ItensPedido.Quantidade * ItensPedido.PrecoUnitario) AS total_vendas\n",
    "    FROM Produtos\n",
    "    JOIN ItensPedido ON Produtos.ProdutoID = ItensPedido.ProdutoID\n",
    "    GROUP BY ItensPedido.ProdutoID\n",
    "''')\n",
    "cursor.fetchall()"
   ]
  },
  {
   "cell_type": "markdown",
   "metadata": {},
   "source": [
    "4. Médio: Encontre os clientes que fizeram pelo menos 2 pedidos."
   ]
  },
  {
   "cell_type": "code",
   "execution_count": null,
   "metadata": {},
   "outputs": [
    {
     "name": "stdout",
     "output_type": "stream",
     "text": [
      "ClienteID: 1, Cliente: João Silva, Quantidade de pedidos: 2\n",
      "ClienteID: 2, Cliente: Maria Santos, Quantidade de pedidos: 2\n",
      "ClienteID: 3, Cliente: Pedro Oliveira, Quantidade de pedidos: 2\n",
      "ClienteID: 4, Cliente: Ana Rodrigues, Quantidade de pedidos: 2\n",
      "ClienteID: 5, Cliente: Carlos Ferreira, Quantidade de pedidos: 2\n"
     ]
    }
   ],
   "source": [
    "cursor.execute(\n",
    "    '''SELECT Clientes.ClienteID, Clientes.Nome, COUNT(Pedidos.ClienteID) AS qtd_pedidos\n",
    "    FROM Clientes\n",
    "    JOIN Pedidos ON Clientes.ClienteID = Pedidos.ClienteID\n",
    "    GROUP BY Pedidos.ClienteID\n",
    "    HAVING qtd_pedidos >= 2;\n",
    "''')\n",
    "for cliente in cursor.fetchall():\n",
    "    print(f\"ClienteID: {cliente[0]}, Cliente: {cliente[1]}, Quantidade de pedidos: {cliente[2]}\")"
   ]
  },
  {
   "cell_type": "markdown",
   "metadata": {},
   "source": [
    "5. Médio: Liste as categorias de produtos e a quantidade de produtos em cada categoria."
   ]
  },
  {
   "cell_type": "code",
   "execution_count": null,
   "metadata": {},
   "outputs": [
    {
     "data": {
      "text/plain": [
       "[('Acessórios', 1),\n",
       " ('Calçados', 1),\n",
       " ('Eletrodomésticos', 1),\n",
       " ('Eletrônicos', 4),\n",
       " ('Livros', 1),\n",
       " ('Móveis', 1),\n",
       " ('Roupas', 1)]"
      ]
     },
     "execution_count": 41,
     "metadata": {},
     "output_type": "execute_result"
    }
   ],
   "source": [
    "cursor.execute(\n",
    "    '''SELECT Produtos.Categoria, COUNT(Categoria) as qtd_produtos\n",
    "    FROM Produtos\n",
    "    GROUP BY Categoria;\n",
    "''')\n",
    "cursor.fetchall()"
   ]
  },
  {
   "cell_type": "markdown",
   "metadata": {},
   "source": [
    "6. Difícil: Encontre o valor total gasto por cada cliente, ordenado do maior para o menor.\n",
    "-- Dica: Você precisará juntar as tabelas Pedidos, ItensPedido e Clientes."
   ]
  },
  {
   "cell_type": "code",
   "execution_count": null,
   "metadata": {},
   "outputs": [
    {
     "data": {
      "text/plain": [
       "[(3, 'Pedro Oliveira', 2689.96),\n",
       " (1, 'João Silva', 2179.96),\n",
       " (4, 'Ana Rodrigues', 1859.94),\n",
       " (7, 'Fernando Costa', 1499.99),\n",
       " (5, 'Carlos Ferreira', 649.95),\n",
       " (2, 'Maria Santos', 479.94),\n",
       " (10, 'Beatriz Lima', 399.96),\n",
       " (9, 'Ricardo Nunes', 279.98),\n",
       " (6, 'Lucia Pereira', 149.98),\n",
       " (8, 'Mariana Alves', 149.95)]"
      ]
     },
     "execution_count": 49,
     "metadata": {},
     "output_type": "execute_result"
    }
   ],
   "source": [
    "cursor.execute(\n",
    "    '''SELECT Clientes.ClienteID, Clientes.Nome, ROUND(SUM(ItensPedido.Quantidade * ItensPedido.PrecoUnitario), 2) AS valor_total\n",
    "    FROM Clientes\n",
    "    JOIN Pedidos ON Clientes.ClienteID = Pedidos.ClienteID\n",
    "    JOIN ItensPedido ON Pedidos.PedidoID = ItensPedido.PedidoID\n",
    "    GROUP BY Clientes.ClienteID\n",
    "    ORDER BY valor_total DESC;\n",
    "''')\n",
    "cursor.fetchall()"
   ]
  },
  {
   "cell_type": "markdown",
   "metadata": {},
   "source": [
    "7. Difícil: Identifique os produtos que nunca foram pedidos.\n",
    "-- Dica: Utilize uma subconsulta ou LEFT JOIN.\n"
   ]
  },
  {
   "cell_type": "code",
   "execution_count": null,
   "metadata": {},
   "outputs": [
    {
     "data": {
      "text/plain": [
       "[]"
      ]
     },
     "execution_count": 17,
     "metadata": {},
     "output_type": "execute_result"
    }
   ],
   "source": [
    "cursor.execute(\n",
    "    '''SELECT Produtos.ProdutoID, Produtos.Nome\n",
    "    FROM Produtos\n",
    "    LEFT JOIN ItensPedido ON Produtos.ProdutoID = ItensPedido.ProdutoID\n",
    "    GROUP BY ItensPedido.ProdutoID\n",
    "    HAVING COUNT(ItensPedido.PedidoID) == 0;\n",
    "''')\n",
    "cursor.fetchall()"
   ]
  },
  {
   "cell_type": "markdown",
   "metadata": {},
   "source": [
    "8. Difícil: Calcule a média de itens por pedido para cada cliente."
   ]
  },
  {
   "cell_type": "code",
   "execution_count": null,
   "metadata": {},
   "outputs": [
    {
     "data": {
      "text/plain": [
       "[(1, 'João Silva', 1),\n",
       " (2, 'Maria Santos', 2),\n",
       " (3, 'Pedro Oliveira', 1),\n",
       " (4, 'Ana Rodrigues', 1),\n",
       " (5, 'Carlos Ferreira', 1),\n",
       " (6, 'Lucia Pereira', 1),\n",
       " (7, 'Fernando Costa', 1),\n",
       " (8, 'Mariana Alves', 5),\n",
       " (9, 'Ricardo Nunes', 1),\n",
       " (10, 'Beatriz Lima', 2)]"
      ]
     },
     "execution_count": 19,
     "metadata": {},
     "output_type": "execute_result"
    }
   ],
   "source": [
    "cursor.execute(\n",
    "    '''SELECT Clientes.ClienteID, Clientes.Nome, (SUM(ItensPedido.Quantidade)/COUNT(ItensPedido.PedidoID)) AS itens_por_pedido\n",
    "    FROM Clientes\n",
    "    JOIN Pedidos ON Clientes.ClienteID = Pedidos.ClienteID\n",
    "    JOIN ItensPedido ON Pedidos.PedidoID = ItensPedido.PedidoID\n",
    "    GROUP BY Clientes.ClienteID;\n",
    "''')\n",
    "cursor.fetchall()"
   ]
  },
  {
   "cell_type": "markdown",
   "metadata": {},
   "source": [
    "9. Muito Difícil: Liste os top 3 clientes que gastaram mais em cada mês de 2023.\n",
    "-- Dica: Você precisará usar window functions como ROW_NUMBER() ou RANK().\n"
   ]
  },
  {
   "cell_type": "code",
   "execution_count": 36,
   "metadata": {},
   "outputs": [
    {
     "data": {
      "text/plain": [
       "[('2023', '01', 'João Silva', 1, 1179.97),\n",
       " ('2023', '02', 'Maria Santos', 1, 219.96),\n",
       " ('2023', '03', 'Pedro Oliveira', 1, 1559.98),\n",
       " ('2023', '04', 'Carlos Ferreira', 1, 449.98),\n",
       " ('2023', '04', 'Ana Rodrigues', 2, 179.97),\n",
       " ('2023', '05', 'João Silva', 1, 999.99),\n",
       " ('2023', '05', 'Maria Santos', 2, 259.98),\n",
       " ('2023', '06', 'Fernando Costa', 1, 1499.99),\n",
       " ('2023', '06', 'Beatriz Lima', 2, 399.96000000000004),\n",
       " ('2023', '06', 'Ricardo Nunes', 3, 279.98),\n",
       " ('2023', '07', 'Ana Rodrigues', 1, 1679.97),\n",
       " ('2023', '07', 'Pedro Oliveira', 2, 1129.98),\n",
       " ('2023', '07', 'Carlos Ferreira', 3, 199.97)]"
      ]
     },
     "execution_count": 36,
     "metadata": {},
     "output_type": "execute_result"
    }
   ],
   "source": [
    "cursor.execute(\n",
    "    '''WITH VendasMensais AS (\n",
    "    SELECT Clientes.ClienteID,\n",
    "    Clientes.Nome,\n",
    "    STRFTIME('%m', Pedidos.DataPedido) AS Mes,\n",
    "    STRFTIME('%Y', Pedidos.DataPedido) AS Ano,\n",
    "    SUM(ItensPedido.Quantidade * ItensPedido.PrecoUnitario) as Total_Gasto\n",
    "    FROM Clientes\n",
    "    JOIN Pedidos ON Clientes.ClienteID = Pedidos.ClienteID\n",
    "    JOIN ItensPedido ON Pedidos.PedidoID = ItensPedido.PedidoID\n",
    "    WHERE Ano = '2023'\n",
    "    GROUP BY Clientes.ClienteID, Ano, Mes\n",
    "    ),\n",
    "    RankingMensal AS (\n",
    "    SELECT ClienteID,\n",
    "    Nome,\n",
    "    Mes,\n",
    "    Ano,\n",
    "    total_gasto,\n",
    "    ROW_NUMBER() OVER (PARTITION BY Ano, Mes ORDER BY total_gasto DESC) AS Ranking\n",
    "    FROM VendasMensais\n",
    "    )\n",
    "    SELECT Ano,\n",
    "        Mes,\n",
    "        Nome,\n",
    "        Ranking,\n",
    "        Total_Gasto\n",
    "    FROM RankingMensal\n",
    "    WHERE Ranking <= 3\n",
    "''')\n",
    "cursor.fetchall()"
   ]
  },
  {
   "cell_type": "markdown",
   "metadata": {},
   "source": [
    "10. Muito Difícil: Para cada produto, calcule a porcentagem de vendas que ele representa em relação ao total de vendas da sua categoria.\n",
    "-- Dica: Utilize CTEs (Common Table Expressions) e window functions."
   ]
  },
  {
   "cell_type": "code",
   "execution_count": 48,
   "metadata": {},
   "outputs": [
    {
     "data": {
      "text/plain": [
       "[(1, 'Smartphone XYZ', 'Eletrônicos', 35.92834379457405),\n",
       " (2, 'Notebook ABC', 'Eletrônicos', 53.89269533537647),\n",
       " (3, 'Tênis Runner', 'Calçados', 100.0),\n",
       " (4, 'Camiseta Básica', 'Roupas', 100.0),\n",
       " (5, 'Fones de Ouvido', 'Eletrônicos', 5.388706650522702),\n",
       " (6, 'Livro \"SQL Avançado\"', 'Livros', 100.0),\n",
       " (7, 'Cafeteira Elétrica', 'Eletrodomésticos', 100.0),\n",
       " (8, 'Mochila Escolar', 'Acessórios', 100.0),\n",
       " (9, 'Relógio Inteligente', 'Eletrônicos', 4.790254219526771),\n",
       " (10, 'Cadeira de Escritório', 'Móveis', 100.0)]"
      ]
     },
     "execution_count": 48,
     "metadata": {},
     "output_type": "execute_result"
    }
   ],
   "source": [
    "cursor.execute(\n",
    "    '''WITH VendasTotalCategoria AS (\n",
    "    SELECT Produtos.Categoria,\n",
    "    Produtos.ProdutoID,\n",
    "    SUM(ItensPedido.Quantidade * ItensPedido.PrecoUnitario) AS VendasCategoria\n",
    "    FROM ItensPedido\n",
    "    JOIN Produtos ON ItensPedido.ProdutoID = Produtos.ProdutoID\n",
    "    GROUP BY Produtos.Categoria\n",
    "    ),\n",
    "    TotalProdutos AS (\n",
    "    SELECT Produtos.ProdutoID,\n",
    "    Produtos.Nome AS Nome,\n",
    "    SUM(ItensPedido.Quantidade * ItensPedido.PrecoUnitario) AS VendasProduto,\n",
    "    Produtos.Categoria\n",
    "    FROM Produtos\n",
    "    JOIN ItensPedido ON Produtos.ProdutoID = ItensPedido.ProdutoID\n",
    "    GROUP BY ItensPedido.ProdutoID\n",
    "    )\n",
    "    SELECT \n",
    "    TotalProdutos.ProdutoID,\n",
    "    TotalProdutos.Nome,\n",
    "    VendasTotalCategoria.Categoria,\n",
    "    ((TotalProdutos.VendasProduto / VendasCategoria) * 100) AS PorcentagemProdutoCategoria\n",
    "    FROM TotalProdutos\n",
    "    JOIN Produtos ON TotalProdutos.ProdutoID = Produtos.ProdutoID\n",
    "    JOIN VendasTotalCategoria ON Produtos.Categoria = VendasTotalCategoria.Categoria\n",
    "    GROUP BY TotalProdutos.ProdutoID, VendasTotalCategoria.Categoria\n",
    "    '''\n",
    ")\n",
    "cursor.fetchall()"
   ]
  },
  {
   "cell_type": "code",
   "execution_count": 42,
   "metadata": {},
   "outputs": [
    {
     "data": {
      "text/plain": [
       "[('Acessórios', 8, 249.95),\n",
       " ('Calçados', 3, 519.96),\n",
       " ('Eletrodomésticos', 7, 239.96999999999997),\n",
       " ('Eletrônicos', 1, 8349.87),\n",
       " ('Livros', 6, 239.96),\n",
       " ('Móveis', 10, 499.98),\n",
       " ('Roupas', 4, 239.92)]"
      ]
     },
     "execution_count": 42,
     "metadata": {},
     "output_type": "execute_result"
    }
   ],
   "source": [
    "cursor.execute(\n",
    "    '''\n",
    "    SELECT Produtos.Categoria,\n",
    "    Produtos.ProdutoID,\n",
    "    SUM(ItensPedido.Quantidade * ItensPedido.PrecoUnitario) AS VendasCategoria\n",
    "    FROM ItensPedido\n",
    "    JOIN Produtos ON ItensPedido.ProdutoID = Produtos.ProdutoID\n",
    "    GROUP BY Produtos.Categoria\n",
    "    '''\n",
    ")\n",
    "cursor.fetchall()"
   ]
  },
  {
   "cell_type": "markdown",
   "metadata": {},
   "source": [
    "Fechando conexão"
   ]
  },
  {
   "cell_type": "code",
   "execution_count": null,
   "metadata": {},
   "outputs": [],
   "source": [
    "conn.close()"
   ]
  }
 ],
 "metadata": {
  "kernelspec": {
   "display_name": "Python 3",
   "language": "python",
   "name": "python3"
  },
  "language_info": {
   "codemirror_mode": {
    "name": "ipython",
    "version": 3
   },
   "file_extension": ".py",
   "mimetype": "text/x-python",
   "name": "python",
   "nbconvert_exporter": "python",
   "pygments_lexer": "ipython3",
   "version": "3.12.1"
  }
 },
 "nbformat": 4,
 "nbformat_minor": 2
}
